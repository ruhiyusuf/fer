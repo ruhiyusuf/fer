{
 "cells": [
  {
   "cell_type": "code",
   "execution_count": null,
   "id": "0f4861d8",
   "metadata": {},
   "outputs": [],
   "source": [
    "# creates user_test folder\n",
    "user_test_path = os.path.join(BASE_DIR, 'user_test')\n",
    "if not(os.path.exists(os.path.join(BASE_DIR, 'user_test'))):\n",
    "    os.mkdir(user_test_path)\n",
    "    print('Directory created.')"
   ]
  },
  {
   "cell_type": "code",
   "execution_count": null,
   "id": "1da44a76",
   "metadata": {},
   "outputs": [],
   "source": [
    "print('Please upload your picture')\n",
    "if os.path.isfile(os.path.join(user_test_path, 'pic.jpg')):\n",
    "    print('You have succesfully uploaded a picture!')"
   ]
  }
 ],
 "metadata": {
  "kernelspec": {
   "display_name": "fer_cnn",
   "language": "python",
   "name": "fer_cnn"
  },
  "language_info": {
   "codemirror_mode": {
    "name": "ipython",
    "version": 3
   },
   "file_extension": ".py",
   "mimetype": "text/x-python",
   "name": "python",
   "nbconvert_exporter": "python",
   "pygments_lexer": "ipython3",
   "version": "3.8.5"
  }
 },
 "nbformat": 4,
 "nbformat_minor": 5
}
