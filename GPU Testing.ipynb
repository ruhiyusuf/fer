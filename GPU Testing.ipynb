{
 "cells": [
  {
   "cell_type": "code",
   "execution_count": 2,
   "id": "6f521782",
   "metadata": {},
   "outputs": [
    {
     "data": {
      "text/plain": [
       "[PhysicalDevice(name='/physical_device:GPU:0', device_type='GPU')]"
      ]
     },
     "execution_count": 2,
     "metadata": {},
     "output_type": "execute_result"
    }
   ],
   "source": [
    "import tensorflow as tf\n",
    "from tensorflow.python.client import device_lib\n",
    "tf.config.list_physical_devices('GPU')"
   ]
  },
  {
   "cell_type": "code",
   "execution_count": 3,
   "id": "18633540",
   "metadata": {},
   "outputs": [
    {
     "data": {
      "text/plain": [
       "[name: \"/device:CPU:0\"\n",
       " device_type: \"CPU\"\n",
       " memory_limit: 268435456\n",
       " locality {\n",
       " }\n",
       " incarnation: 17430437350994126589,\n",
       " name: \"/device:GPU:0\"\n",
       " device_type: \"GPU\"\n",
       " memory_limit: 6264651776\n",
       " locality {\n",
       "   bus_id: 1\n",
       "   links {\n",
       "   }\n",
       " }\n",
       " incarnation: 13422290864599251272\n",
       " physical_device_desc: \"device: 0, name: NVIDIA GeForce RTX 2070 SUPER, pci bus id: 0000:01:00.0, compute capability: 7.5\"]"
      ]
     },
     "execution_count": 3,
     "metadata": {},
     "output_type": "execute_result"
    }
   ],
   "source": [
    "device_lib.list_local_devices()"
   ]
  },
  {
   "cell_type": "code",
   "execution_count": 4,
   "id": "a3e3ec10",
   "metadata": {},
   "outputs": [
    {
     "data": {
      "text/plain": [
       "True"
      ]
     },
     "execution_count": 4,
     "metadata": {},
     "output_type": "execute_result"
    }
   ],
   "source": [
    "tf.test.is_built_with_cuda()"
   ]
  },
  {
   "cell_type": "markdown",
   "id": "efda7cdc",
   "metadata": {},
   "source": [
    "# Facial Emotion Recognition\n",
    "\n",
    "- CNN model (custom)\n",
    "- Kaggle dataset from Research Prediction Competition (https://www.kaggle.com/c/challenges-in-representation-learning-facial-expression-recognition-challenge/data)"
   ]
  },
  {
   "cell_type": "markdown",
   "id": "1ff36669",
   "metadata": {},
   "source": [
    "The program has been tested to work with the following modules and their versions.\n",
    "- keras: 2.4.0\n",
    "- tensorflow-gpu: 2.5.0\n",
    "- pandas: 1.2.4\n",
    "- numpy: 1.19.5\n",
    "- sklearn: 0.24.2\n",
    "- opendatasets: 0.1.13"
   ]
  },
  {
   "cell_type": "code",
   "execution_count": 5,
   "id": "7f54888d",
   "metadata": {},
   "outputs": [
    {
     "name": "stdout",
     "output_type": "stream",
     "text": [
      "Name: Keras\n",
      "Version: 2.4.0\n",
      "Summary: Deep Learning for humans\n",
      "Home-page: https://github.com/keras-team/keras\n",
      "Author: Francois Chollet\n",
      "Author-email: francois.chollet@gmail.com\n",
      "License: MIT\n",
      "Location: c:\\users\\ruhiy\\.conda\\envs\\fer_cnn\\lib\\site-packages\n",
      "Requires: scipy, h5py, pyyaml, tensorflow, numpy\n",
      "Required-by: \n",
      "Note: you may need to restart the kernel to use updated packages.\n"
     ]
    }
   ],
   "source": [
    "pip show keras"
   ]
  },
  {
   "cell_type": "code",
   "execution_count": 6,
   "id": "52f39690",
   "metadata": {},
   "outputs": [
    {
     "name": "stdout",
     "output_type": "stream",
     "text": [
      "Name: tensorflow-gpu\n",
      "Version: 2.5.0\n",
      "Summary: TensorFlow is an open source machine learning framework for everyone.\n",
      "Home-page: https://www.tensorflow.org/\n",
      "Author: Google Inc.\n",
      "Author-email: packages@tensorflow.org\n",
      "License: Apache 2.0\n",
      "Location: c:\\users\\ruhiy\\.conda\\envs\\fer_cnn\\lib\\site-packages\n",
      "Requires: wheel, six, tensorboard, numpy, absl-py, h5py, gast, tensorflow-estimator, termcolor, protobuf, google-pasta, keras-nightly, grpcio, keras-preprocessing, flatbuffers, astunparse, wrapt, opt-einsum, typing-extensions\n",
      "Required-by: \n",
      "Note: you may need to restart the kernel to use updated packages.\n"
     ]
    }
   ],
   "source": [
    "pip show tensorflow-gpu"
   ]
  },
  {
   "cell_type": "code",
   "execution_count": 7,
   "id": "14ecb6bf",
   "metadata": {},
   "outputs": [
    {
     "name": "stdout",
     "output_type": "stream",
     "text": [
      "Name: pandas\n",
      "Version: 1.2.4\n",
      "Summary: Powerful data structures for data analysis, time series, and statistics\n",
      "Home-page: https://pandas.pydata.org\n",
      "Author: None\n",
      "Author-email: None\n",
      "License: BSD\n",
      "Location: c:\\users\\ruhiy\\.conda\\envs\\fer_cnn\\lib\\site-packages\n",
      "Requires: python-dateutil, pytz, numpy\n",
      "Required-by: altair\n",
      "Note: you may need to restart the kernel to use updated packages.\n"
     ]
    }
   ],
   "source": [
    "pip show pandas"
   ]
  },
  {
   "cell_type": "code",
   "execution_count": 8,
   "id": "db379fe4",
   "metadata": {},
   "outputs": [
    {
     "name": "stdout",
     "output_type": "stream",
     "text": [
      "Name: numpy\n",
      "Version: 1.19.5\n",
      "Summary: NumPy is the fundamental package for array computing with Python.\n",
      "Home-page: https://www.numpy.org\n",
      "Author: Travis E. Oliphant et al.\n",
      "Author-email: None\n",
      "License: BSD\n",
      "Location: c:\\users\\ruhiy\\.conda\\envs\\fer_cnn\\lib\\site-packages\n",
      "Requires: \n",
      "Required-by: tensorflow, tensorflow-gpu, tensorboard, scipy, scikit-learn, pydeck, pyarrow, pandas, opt-einsum, opencv-python, matplotlib, Keras, Keras-Preprocessing, Keras-Applications, h5py, altair\n",
      "Note: you may need to restart the kernel to use updated packages.\n"
     ]
    }
   ],
   "source": [
    "pip show numpy"
   ]
  },
  {
   "cell_type": "code",
   "execution_count": 9,
   "id": "f4a4d915",
   "metadata": {},
   "outputs": [
    {
     "name": "stdout",
     "output_type": "stream",
     "text": [
      "Name: sklearn\n",
      "Version: 0.0\n",
      "Summary: A set of python modules for machine learning and data mining\n",
      "Home-page: https://pypi.python.org/pypi/scikit-learn/\n",
      "Author: UNKNOWN\n",
      "Author-email: UNKNOWN\n",
      "License: None\n",
      "Location: c:\\users\\ruhiy\\.conda\\envs\\fer_cnn\\lib\\site-packages\n",
      "Requires: scikit-learn\n",
      "Required-by: \n",
      "Note: you may need to restart the kernel to use updated packages.\n"
     ]
    }
   ],
   "source": [
    "pip show sklearn"
   ]
  },
  {
   "cell_type": "code",
   "execution_count": 10,
   "id": "a941294d",
   "metadata": {},
   "outputs": [
    {
     "name": "stdout",
     "output_type": "stream",
     "text": [
      "Name: opendatasets\n",
      "Version: 0.1.13\n",
      "Summary: A curated collection of datasets for data analysis & machine learning, downloadable with a single Python command\n",
      "Home-page: https://github.com/JovianML/opendatasets\n",
      "Author: Jovian.ml\n",
      "Author-email: hello@jovian.ml\n",
      "License: UNKNOWN\n",
      "Location: c:\\users\\ruhiy\\.conda\\envs\\fer_cnn\\lib\\site-packages\n",
      "Requires: tqdm, kaggle, click\n",
      "Required-by: \n",
      "Note: you may need to restart the kernel to use updated packages.\n"
     ]
    }
   ],
   "source": [
    "pip show opendatasets"
   ]
  },
  {
   "cell_type": "code",
   "execution_count": 11,
   "id": "ee4f2145",
   "metadata": {},
   "outputs": [],
   "source": [
    "import pandas as pd\n",
    "import numpy as np\n",
    "import opendatasets as od\n",
    "import tensorflow as tf\n",
    "import os\n",
    "import warnings\n",
    "warnings.filterwarnings(\"ignore\")"
   ]
  },
  {
   "cell_type": "code",
   "execution_count": 12,
   "id": "a7487088",
   "metadata": {},
   "outputs": [
    {
     "data": {
      "text/plain": [
       "True"
      ]
     },
     "execution_count": 12,
     "metadata": {},
     "output_type": "execute_result"
    }
   ],
   "source": [
    "os.path.isdir(r'C:\\Users\\ruhiy\\Documents\\Machine Learning\\Facial Recognition\\fer-main\\challenges-in-representation-learning-facial-expression-recognition-challenge')"
   ]
  },
  {
   "cell_type": "code",
   "execution_count": 13,
   "id": "a24dc8be",
   "metadata": {},
   "outputs": [],
   "source": [
    "BASE_DIR = r'C:\\Users\\ruhiy\\Documents\\Machine Learning\\Facial Recognition\\fer-main'\n",
    "DATA_DIR = r'C:\\Users\\ruhiy\\Documents\\Machine Learning\\Facial Recognition\\fer-main\\challenges-in-representation-learning-facial-expression-recognition-challenge'"
   ]
  },
  {
   "cell_type": "code",
   "execution_count": 14,
   "id": "87d1c9a2",
   "metadata": {},
   "outputs": [],
   "source": [
    "if not(os.path.isdir(DATA_DIR)):\n",
    "    od.download('https://www.kaggle.com/c/challenges-in-representation-learning-facial-expression-recognition-challenge/data')"
   ]
  },
  {
   "cell_type": "code",
   "execution_count": 15,
   "id": "2a9e697d",
   "metadata": {},
   "outputs": [],
   "source": [
    "import zipfile\n",
    "\n",
    "if not(os.path.isdir(DATA_DIR)):\n",
    "    path_to_zip_file = r'C:\\Users\\ruhiy\\Documents\\Machine Learning\\Facial Recognition\\fer-main\\challenges-in-representation-learning-facial-expression-recognition-challenge\\challenges-in-representation-learning-facial-expression-recognition-challenge.zip'\n",
    "    directory_to_extract_to = r'C:\\Users\\ruhiy\\Documents\\Machine Learning\\Facial Recognition\\fer-main\\challenges-in-representation-learning-facial-expression-recognition-challenge'\n",
    "    with zipfile.ZipFile(path_to_zip_file, 'r') as zip_ref:\n",
    "        zip_ref.extractall(directory_to_extract_to)"
   ]
  },
  {
   "cell_type": "code",
   "execution_count": 16,
   "id": "a31d40b7",
   "metadata": {},
   "outputs": [],
   "source": [
    "# extract fer2013.tar.gz file\n",
    "if not(os.path.isdir(os.path.join(DATA_DIR, 'fer2013'))):\n",
    "    !tar -xzvf \"C:\\Users\\ruhiy\\Documents\\Machine Learning\\Facial Recognition\\fer-main\\challenges-in-representation-learning-facial-expression-recognition-challenge\\fer2013.tar.gz\" -C \"C:\\Users\\ruhiy\\Documents\\Machine Learning\\Facial Recognition\\fer-main\\challenges-in-representation-learning-facial-expression-recognition-challenge\" "
   ]
  },
  {
   "cell_type": "code",
   "execution_count": 17,
   "id": "3c6e550a",
   "metadata": {},
   "outputs": [],
   "source": [
    "data = pd.read_csv(os.path.join(DATA_DIR, 'fer2013', 'fer2013.csv'))"
   ]
  },
  {
   "cell_type": "code",
   "execution_count": 18,
   "id": "46996f06",
   "metadata": {},
   "outputs": [
    {
     "name": "stdout",
     "output_type": "stream",
     "text": [
      "       emotion                                             pixels        Usage\n",
      "0            0  70 80 82 72 58 58 60 63 54 58 60 48 89 115 121...     Training\n",
      "1            0  151 150 147 155 148 133 111 140 170 174 182 15...     Training\n",
      "2            2  231 212 156 164 174 138 161 173 182 200 106 38...     Training\n",
      "3            4  24 32 36 30 32 23 19 20 30 41 21 22 32 34 21 1...     Training\n",
      "4            6  4 0 0 0 0 0 0 0 0 0 0 0 3 15 23 28 48 50 58 84...     Training\n",
      "...        ...                                                ...          ...\n",
      "35882        6  50 36 17 22 23 29 33 39 34 37 37 37 39 43 48 5...  PrivateTest\n",
      "35883        3  178 174 172 173 181 188 191 194 196 199 200 20...  PrivateTest\n",
      "35884        0  17 17 16 23 28 22 19 17 25 26 20 24 31 19 27 9...  PrivateTest\n",
      "35885        3  30 28 28 29 31 30 42 68 79 81 77 67 67 71 63 6...  PrivateTest\n",
      "35886        2  19 13 14 12 13 16 21 33 50 57 71 84 97 108 122...  PrivateTest\n",
      "\n",
      "[35887 rows x 3 columns]\n"
     ]
    }
   ],
   "source": [
    "print(data)"
   ]
  },
  {
   "cell_type": "code",
   "execution_count": 19,
   "id": "8e48da24",
   "metadata": {},
   "outputs": [],
   "source": [
    "width, height = 48, 48\n",
    "\n",
    "datapoints = data['pixels'].tolist()"
   ]
  },
  {
   "cell_type": "code",
   "execution_count": 20,
   "id": "26aeebd4",
   "metadata": {},
   "outputs": [],
   "source": [
    "# getting features for training\n",
    "X = []\n",
    "for xseq in datapoints:\n",
    "    xx = [int(xp) for xp in xseq.split(' ')]\n",
    "    xx = np.asarray(xx).reshape(width, height)\n",
    "    X.append(xx.astype('float32'))"
   ]
  },
  {
   "cell_type": "code",
   "execution_count": 21,
   "id": "3785de5b",
   "metadata": {},
   "outputs": [],
   "source": [
    "X = np.asarray(X)\n",
    "X = np.expand_dims(X, -1)"
   ]
  },
  {
   "cell_type": "code",
   "execution_count": 22,
   "id": "82b2be33",
   "metadata": {},
   "outputs": [],
   "source": [
    "# getting labels for training\n",
    "y = pd.get_dummies(data['emotion']).to_numpy()"
   ]
  },
  {
   "cell_type": "code",
   "execution_count": 23,
   "id": "e7661c37",
   "metadata": {},
   "outputs": [],
   "source": [
    "# storing them using numpy\n",
    "np.save('fdataX', X)\n",
    "np.save('flabels', y)"
   ]
  },
  {
   "cell_type": "code",
   "execution_count": 24,
   "id": "7be8d175",
   "metadata": {},
   "outputs": [
    {
     "name": "stdout",
     "output_type": "stream",
     "text": [
      "Preprocessing Done\n",
      "Number of Features: 48\n",
      "Number of Labels: 7\n",
      "Number of examples in dataset:35887\n",
      "X,y stored in fdataX.npy and flabels.npy respectively\n"
     ]
    }
   ],
   "source": [
    "print(\"Preprocessing Done\")\n",
    "print(\"Number of Features: \"+str(len(X[0])))\n",
    "print(\"Number of Labels: \"+ str(len(y[0])))\n",
    "print(\"Number of examples in dataset:\"+str(len(X)))\n",
    "print(\"X,y stored in fdataX.npy and flabels.npy respectively\")"
   ]
  },
  {
   "cell_type": "code",
   "execution_count": 25,
   "id": "7beff91e",
   "metadata": {},
   "outputs": [],
   "source": [
    "import sys, os\n",
    "import pandas as pd\n",
    "import numpy as np\n",
    "from sklearn.model_selection import train_test_split\n",
    "from tensorflow import keras\n",
    "from tensorflow.keras.layers import Dense, Dropout, Activation, Flatten\n",
    "from tensorflow.keras.layers import Conv2D, MaxPooling2D, BatchNormalization\n",
    "from tensorflow.keras.losses import categorical_crossentropy\n",
    "from tensorflow.keras.optimizers import Adam\n",
    "from tensorflow.keras.regularizers import l2"
   ]
  },
  {
   "cell_type": "code",
   "execution_count": 26,
   "id": "163b7028",
   "metadata": {},
   "outputs": [],
   "source": [
    "num_features = 64\n",
    "num_labels = 7\n",
    "batch_size = 64\n",
    "epochs = 100\n",
    "width, height = 48, 48"
   ]
  },
  {
   "cell_type": "code",
   "execution_count": 27,
   "id": "8f967d51",
   "metadata": {},
   "outputs": [],
   "source": [
    "x = np.load('./fdataX.npy')\n",
    "y = np.load('./flabels.npy')"
   ]
  },
  {
   "cell_type": "code",
   "execution_count": 28,
   "id": "2bd3d1f2",
   "metadata": {},
   "outputs": [],
   "source": [
    "x -= np.mean(x, axis=0)\n",
    "x /= np.std(x, axis=0)"
   ]
  },
  {
   "cell_type": "code",
   "execution_count": 29,
   "id": "c7ffebad",
   "metadata": {},
   "outputs": [],
   "source": [
    "# splitting into training, validation and testing data\n",
    "X_train, X_test, y_train, y_test = train_test_split(x, y, test_size=0.1, random_state=42)\n",
    "X_train, X_valid, y_train, y_valid = train_test_split(X_train, y_train, test_size=0.1, random_state=41)"
   ]
  },
  {
   "cell_type": "code",
   "execution_count": 30,
   "id": "d01c009d",
   "metadata": {},
   "outputs": [
    {
     "data": {
      "text/plain": [
       "(29068, 7)"
      ]
     },
     "execution_count": 30,
     "metadata": {},
     "output_type": "execute_result"
    }
   ],
   "source": [
    "# 29068 images are used for training\n",
    "y_train.shape"
   ]
  },
  {
   "cell_type": "code",
   "execution_count": 31,
   "id": "45b0192f",
   "metadata": {},
   "outputs": [
    {
     "data": {
      "text/plain": [
       "(3589, 7)"
      ]
     },
     "execution_count": 31,
     "metadata": {},
     "output_type": "execute_result"
    }
   ],
   "source": [
    "# 3589 images are used for testing\n",
    "y_test.shape"
   ]
  },
  {
   "cell_type": "code",
   "execution_count": 32,
   "id": "3ef2d005",
   "metadata": {},
   "outputs": [],
   "source": [
    "# saving the test samples to be used later\n",
    "np.save('modXtest', X_test)\n",
    "np.save('modytest', y_test)"
   ]
  },
  {
   "cell_type": "code",
   "execution_count": 33,
   "id": "48337c7f",
   "metadata": {},
   "outputs": [],
   "source": [
    "# desinging the CNN\n",
    "model = keras.Sequential()"
   ]
  },
  {
   "cell_type": "code",
   "execution_count": 34,
   "id": "4bdcfd72",
   "metadata": {},
   "outputs": [],
   "source": [
    "model.add(Conv2D(num_features, kernel_size=(3, 3), activation='relu', input_shape=(width, height, 1), data_format='channels_last', kernel_regularizer=l2(0.01)))\n",
    "model.add(Conv2D(num_features, kernel_size=(3, 3), activation='relu', padding='same'))\n",
    "model.add(BatchNormalization())\n",
    "model.add(MaxPooling2D(pool_size=(2, 2), strides=(2, 2)))\n",
    "model.add(Dropout(0.5))"
   ]
  },
  {
   "cell_type": "code",
   "execution_count": 35,
   "id": "ec0addaf",
   "metadata": {},
   "outputs": [],
   "source": [
    "model.add(Conv2D(2*num_features, kernel_size=(3, 3), activation='relu', padding='same'))\n",
    "model.add(BatchNormalization())\n",
    "model.add(Conv2D(2*num_features, kernel_size=(3, 3), activation='relu', padding='same'))\n",
    "model.add(BatchNormalization())\n",
    "model.add(MaxPooling2D(pool_size=(2, 2), strides=(2, 2)))\n",
    "model.add(Dropout(0.5))"
   ]
  },
  {
   "cell_type": "code",
   "execution_count": 36,
   "id": "91c99d28",
   "metadata": {},
   "outputs": [],
   "source": [
    "model.add(Conv2D(2*2*num_features, kernel_size=(3, 3), activation='relu', padding='same'))\n",
    "model.add(BatchNormalization())\n",
    "model.add(Conv2D(2*2*num_features, kernel_size=(3, 3), activation='relu', padding='same'))\n",
    "model.add(BatchNormalization())\n",
    "model.add(MaxPooling2D(pool_size=(2, 2), strides=(2, 2)))\n",
    "model.add(Dropout(0.5))"
   ]
  },
  {
   "cell_type": "code",
   "execution_count": 37,
   "id": "f079b9c4",
   "metadata": {},
   "outputs": [],
   "source": [
    "model.add(Conv2D(2*2*2*num_features, kernel_size=(3, 3), activation='relu', padding='same'))\n",
    "model.add(BatchNormalization())\n",
    "model.add(Conv2D(2*2*2*num_features, kernel_size=(3, 3), activation='relu', padding='same'))\n",
    "model.add(BatchNormalization())\n",
    "model.add(MaxPooling2D(pool_size=(2, 2), strides=(2, 2)))\n",
    "model.add(Dropout(0.5))"
   ]
  },
  {
   "cell_type": "code",
   "execution_count": 38,
   "id": "5d767935",
   "metadata": {},
   "outputs": [],
   "source": [
    "model.add(Flatten())"
   ]
  },
  {
   "cell_type": "code",
   "execution_count": 39,
   "id": "03c3ff71",
   "metadata": {},
   "outputs": [],
   "source": [
    "model.add(Dense(2*2*2*num_features, activation='relu'))\n",
    "model.add(Dropout(0.4))\n",
    "model.add(Dense(2*2*num_features, activation='relu'))\n",
    "model.add(Dropout(0.4))\n",
    "model.add(Dense(2*num_features, activation='relu'))\n",
    "model.add(Dropout(0.5))"
   ]
  },
  {
   "cell_type": "code",
   "execution_count": 40,
   "id": "0048acac",
   "metadata": {},
   "outputs": [],
   "source": [
    "model.add(Dense(num_labels, activation='softmax'))"
   ]
  },
  {
   "cell_type": "code",
   "execution_count": 41,
   "id": "ad03f300",
   "metadata": {},
   "outputs": [
    {
     "name": "stdout",
     "output_type": "stream",
     "text": [
      "Model: \"sequential\"\n",
      "_________________________________________________________________\n",
      "Layer (type)                 Output Shape              Param #   \n",
      "=================================================================\n",
      "conv2d (Conv2D)              (None, 46, 46, 64)        640       \n",
      "_________________________________________________________________\n",
      "conv2d_1 (Conv2D)            (None, 46, 46, 64)        36928     \n",
      "_________________________________________________________________\n",
      "batch_normalization (BatchNo (None, 46, 46, 64)        256       \n",
      "_________________________________________________________________\n",
      "max_pooling2d (MaxPooling2D) (None, 23, 23, 64)        0         \n",
      "_________________________________________________________________\n",
      "dropout (Dropout)            (None, 23, 23, 64)        0         \n",
      "_________________________________________________________________\n",
      "conv2d_2 (Conv2D)            (None, 23, 23, 128)       73856     \n",
      "_________________________________________________________________\n",
      "batch_normalization_1 (Batch (None, 23, 23, 128)       512       \n",
      "_________________________________________________________________\n",
      "conv2d_3 (Conv2D)            (None, 23, 23, 128)       147584    \n",
      "_________________________________________________________________\n",
      "batch_normalization_2 (Batch (None, 23, 23, 128)       512       \n",
      "_________________________________________________________________\n",
      "max_pooling2d_1 (MaxPooling2 (None, 11, 11, 128)       0         \n",
      "_________________________________________________________________\n",
      "dropout_1 (Dropout)          (None, 11, 11, 128)       0         \n",
      "_________________________________________________________________\n",
      "conv2d_4 (Conv2D)            (None, 11, 11, 256)       295168    \n",
      "_________________________________________________________________\n",
      "batch_normalization_3 (Batch (None, 11, 11, 256)       1024      \n",
      "_________________________________________________________________\n",
      "conv2d_5 (Conv2D)            (None, 11, 11, 256)       590080    \n",
      "_________________________________________________________________\n",
      "batch_normalization_4 (Batch (None, 11, 11, 256)       1024      \n",
      "_________________________________________________________________\n",
      "max_pooling2d_2 (MaxPooling2 (None, 5, 5, 256)         0         \n",
      "_________________________________________________________________\n",
      "dropout_2 (Dropout)          (None, 5, 5, 256)         0         \n",
      "_________________________________________________________________\n",
      "conv2d_6 (Conv2D)            (None, 5, 5, 512)         1180160   \n",
      "_________________________________________________________________\n",
      "batch_normalization_5 (Batch (None, 5, 5, 512)         2048      \n",
      "_________________________________________________________________\n",
      "conv2d_7 (Conv2D)            (None, 5, 5, 512)         2359808   \n",
      "_________________________________________________________________\n",
      "batch_normalization_6 (Batch (None, 5, 5, 512)         2048      \n",
      "_________________________________________________________________\n",
      "max_pooling2d_3 (MaxPooling2 (None, 2, 2, 512)         0         \n",
      "_________________________________________________________________\n",
      "dropout_3 (Dropout)          (None, 2, 2, 512)         0         \n",
      "_________________________________________________________________\n",
      "flatten (Flatten)            (None, 2048)              0         \n",
      "_________________________________________________________________\n",
      "dense (Dense)                (None, 512)               1049088   \n",
      "_________________________________________________________________\n",
      "dropout_4 (Dropout)          (None, 512)               0         \n",
      "_________________________________________________________________\n",
      "dense_1 (Dense)              (None, 256)               131328    \n",
      "_________________________________________________________________\n",
      "dropout_5 (Dropout)          (None, 256)               0         \n",
      "_________________________________________________________________\n",
      "dense_2 (Dense)              (None, 128)               32896     \n",
      "_________________________________________________________________\n",
      "dropout_6 (Dropout)          (None, 128)               0         \n",
      "_________________________________________________________________\n",
      "dense_3 (Dense)              (None, 7)                 903       \n",
      "=================================================================\n",
      "Total params: 5,905,863\n",
      "Trainable params: 5,902,151\n",
      "Non-trainable params: 3,712\n",
      "_________________________________________________________________\n"
     ]
    }
   ],
   "source": [
    "model.summary()"
   ]
  },
  {
   "cell_type": "code",
   "execution_count": 42,
   "id": "1070cb33",
   "metadata": {
    "scrolled": true
   },
   "outputs": [
    {
     "name": "stdout",
     "output_type": "stream",
     "text": [
      "<tensorflow.python.keras.optimizer_v2.adam.Adam object at 0x0000015AE38ED8E0>\n"
     ]
    }
   ],
   "source": [
    "# Compliling the model with adam optimizer and categorical crossentropy loss\n",
    "opt = Adam(\n",
    "    learning_rate = 0.001,\n",
    "    beta_1 = 0.9,\n",
    "    beta_2 = 0.999,\n",
    "    epsilon = 1e-7\n",
    ")\n",
    "print(opt)"
   ]
  },
  {
   "cell_type": "code",
   "execution_count": 43,
   "id": "c3c24439",
   "metadata": {},
   "outputs": [],
   "source": [
    "model.compile(loss='categorical_crossentropy',\n",
    "              optimizer = opt,\n",
    "              metrics=['accuracy'])"
   ]
  },
  {
   "cell_type": "code",
   "execution_count": 44,
   "id": "85845115",
   "metadata": {},
   "outputs": [],
   "source": [
    "# training the model\n",
    "if not(os.path.isfile(os.path.join(BASE_DIR, 'fer.h5'))):\n",
    "    model.fit(np.array(X_train), np.array(y_train),\n",
    "          batch_size=batch_size,\n",
    "          epochs=epochs,\n",
    "          verbose=1,\n",
    "          validation_data=(np.array(X_valid), np.array(y_valid)),\n",
    "          shuffle=True)"
   ]
  },
  {
   "cell_type": "code",
   "execution_count": 45,
   "id": "5a1bfa1a",
   "metadata": {},
   "outputs": [],
   "source": [
    "# saving the  model to be used later\n",
    "if not(os.path.isfile(os.path.join(BASE_DIR, 'fer.h5'))):\n",
    "    fer_json = model.to_json()\n",
    "    with open(\"fer.json\", \"w\") as json_file:\n",
    "        json_file.write(fer_json)\n",
    "    model.save_weights(\"fer.h5\")\n",
    "    print(\"Saved model to disk\")"
   ]
  },
  {
   "cell_type": "markdown",
   "id": "a92f883f",
   "metadata": {},
   "source": [
    "### Testing the model"
   ]
  },
  {
   "cell_type": "code",
   "execution_count": 46,
   "id": "28a6f9aa",
   "metadata": {},
   "outputs": [],
   "source": [
    "# load json and create model\n",
    "from __future__ import division\n",
    "from tensorflow.keras.models import model_from_json"
   ]
  },
  {
   "cell_type": "code",
   "execution_count": 47,
   "id": "eed7274f",
   "metadata": {},
   "outputs": [
    {
     "name": "stdout",
     "output_type": "stream",
     "text": [
      "Loaded model from disk\n"
     ]
    }
   ],
   "source": [
    "json_file = open('fer.json', 'r')\n",
    "loaded_model_json = json_file.read()\n",
    "json_file.close()\n",
    "loaded_model = model_from_json(loaded_model_json)\n",
    "# load weights into new model\n",
    "loaded_model.load_weights(\"fer.h5\")\n",
    "print(\"Loaded model from disk\")"
   ]
  },
  {
   "cell_type": "code",
   "execution_count": 48,
   "id": "1bd10914",
   "metadata": {},
   "outputs": [],
   "source": [
    "truey=[]\n",
    "predy=[]\n",
    "x = np.load('./modXtest.npy')\n",
    "y = np.load('./modytest.npy')"
   ]
  },
  {
   "cell_type": "code",
   "execution_count": 49,
   "id": "75971ac2",
   "metadata": {},
   "outputs": [],
   "source": [
    "yhat= loaded_model.predict(x)\n",
    "yh = yhat.tolist()\n",
    "yt = y.tolist()\n",
    "count = 0"
   ]
  },
  {
   "cell_type": "code",
   "execution_count": 50,
   "id": "85059f62",
   "metadata": {},
   "outputs": [],
   "source": [
    "for i in range(len(y)):\n",
    "    yy = max(yh[i])\n",
    "    yyt = max(yt[i])\n",
    "    predy.append(yh[i].index(yy))\n",
    "    truey.append(yt[i].index(yyt))\n",
    "    if(yh[i].index(yy)== yt[i].index(yyt)):\n",
    "        count+=1\n",
    "\n",
    "acc = (count/len(y))*100"
   ]
  },
  {
   "cell_type": "code",
   "execution_count": 51,
   "id": "46e2a898",
   "metadata": {},
   "outputs": [
    {
     "name": "stdout",
     "output_type": "stream",
     "text": [
      "Predicted and true label values saved\n",
      "Accuracy on test set :66.00724435775982%\n"
     ]
    }
   ],
   "source": [
    "# saving values for confusion matrix and analysis\n",
    "np.save('truey', truey)\n",
    "np.save('predy', predy)\n",
    "print(\"Predicted and true label values saved\")\n",
    "print(\"Accuracy on test set :\"+str(acc)+\"%\")"
   ]
  },
  {
   "cell_type": "markdown",
   "id": "efa8a6e1",
   "metadata": {},
   "source": [
    "### Useful Resources\n",
    "Adam optimzer: https://keras.io/api/optimizers/adam/\n",
    "Research paper regarding fer: https://arxiv.org/pdf/1307.0414.pdf"
   ]
  },
  {
   "cell_type": "markdown",
   "id": "081dd903",
   "metadata": {},
   "source": [
    "## Confusion Matrix"
   ]
  },
  {
   "cell_type": "code",
   "execution_count": 52,
   "id": "4751de76",
   "metadata": {},
   "outputs": [],
   "source": [
    "import itertools\n",
    "import numpy as np\n",
    "import matplotlib.pyplot as plt\n",
    "from sklearn.metrics import confusion_matrix"
   ]
  },
  {
   "cell_type": "code",
   "execution_count": 53,
   "id": "fa786202",
   "metadata": {},
   "outputs": [
    {
     "name": "stdout",
     "output_type": "stream",
     "text": [
      "[[247   5  61  28  79  10  68]\n",
      " [  7  30   6   0   5   0   4]\n",
      " [ 32   4 265  27 108  43  66]\n",
      " [ 20   1  18 760  18  16  48]\n",
      " [ 43   0  58  24 356   4 103]\n",
      " [ 10   0  48  34  10 297  15]\n",
      " [ 26   1  31  53  78   8 414]]\n"
     ]
    }
   ],
   "source": [
    "y_true = np.load('./truey.npy')\n",
    "y_pred = np.load('./predy.npy')\n",
    "cm = confusion_matrix(y_true, y_pred)\n",
    "labels = ['Angry', 'Disgust', 'Fear', 'Happy', 'Sad', 'Surprise', 'Neutral']\n",
    "title='Confusion matrix'\n",
    "print(cm)"
   ]
  },
  {
   "cell_type": "code",
   "execution_count": 54,
   "id": "738f2023",
   "metadata": {
    "scrolled": true
   },
   "outputs": [
    {
     "data": {
      "image/png": "[encoded data removed]",
      "text/plain": [
       "<Figure size 640x480 with 2 Axes>"
      ]
     },
     "metadata": {},
     "output_type": "display_data"
    }
   ],
   "source": [
    "plt.imshow(cm, interpolation='nearest', cmap=plt.cm.Blues)\n",
    "plt.title(title)\n",
    "plt.colorbar()\n",
    "tick_marks = np.arange(len(labels))\n",
    "plt.xticks(tick_marks, labels, rotation=45)\n",
    "plt.yticks(tick_marks, labels)\n",
    "fmt = 'd'\n",
    "thresh = cm.max()/ 2.\n",
    "for i, j in itertools.product(range(cm.shape[0]), range(cm.shape[1])):\n",
    "    plt.text(j, i, format(cm[i, j], fmt),\n",
    "            horizontalalignment=\"center\",\n",
    "            color=\"white\" if cm[i, j] > thresh else \"black\")\n",
    "\n",
    "plt.ylabel('True label')\n",
    "plt.xlabel('Predicted label')\n",
    "plt.tight_layout()\n",
    "plt.show()"
   ]
  },
  {
   "cell_type": "markdown",
   "id": "b04132a9",
   "metadata": {},
   "source": [
    "### Testing with Personal Input"
   ]
  },
  {
   "cell_type": "code",
   "execution_count": 55,
   "id": "01abbbe0",
   "metadata": {},
   "outputs": [],
   "source": [
    "# creates user_test folder\n",
    "user_test_path = os.path.join(BASE_DIR, 'user_test')\n",
    "if not(os.path.exists(os.path.join(BASE_DIR, 'user_test'))):\n",
    "    os.mkdir(user_test_path)\n",
    "    print('Directory created.')"
   ]
  },
  {
   "cell_type": "code",
   "execution_count": 56,
   "id": "4b184d32",
   "metadata": {},
   "outputs": [
    {
     "name": "stdout",
     "output_type": "stream",
     "text": [
      "Please upload your picture\n"
     ]
    }
   ],
   "source": [
    "print('Please upload your picture')\n",
    "if os.path.isfile(os.path.join(user_test_path, 'pic.jpg')):\n",
    "    print('You have succesfully uploaded a picture!')"
   ]
  },
  {
   "cell_type": "code",
   "execution_count": 57,
   "id": "82453bde",
   "metadata": {},
   "outputs": [],
   "source": [
    "# load json and create model\n",
    "from tensorflow.keras.models import Sequential\n",
    "from tensorflow.keras.layers import Dense\n",
    "from tensorflow.keras.models import model_from_json\n",
    "import numpy\n",
    "import os\n",
    "import numpy as np\n",
    "import cv2"
   ]
  },
  {
   "cell_type": "code",
   "execution_count": 58,
   "id": "2cda2dde",
   "metadata": {},
   "outputs": [
    {
     "name": "stdout",
     "output_type": "stream",
     "text": [
      "Loaded model from disk\n"
     ]
    }
   ],
   "source": [
    "# loading the model\n",
    "json_file = open('fer.json', 'r')\n",
    "loaded_model_json = json_file.read()\n",
    "json_file.close()\n",
    "loaded_model = model_from_json(loaded_model_json)\n",
    "# load weights into new model\n",
    "loaded_model.load_weights(\"fer.h5\")\n",
    "print(\"Loaded model from disk\")"
   ]
  },
  {
   "cell_type": "code",
   "execution_count": 59,
   "id": "8866047a",
   "metadata": {},
   "outputs": [],
   "source": [
    "# setting image resizing parameters\n",
    "WIDTH = 48\n",
    "HEIGHT = 48\n",
    "x=None\n",
    "y=None\n",
    "labels = ['Angry', 'Disgust', 'Fear', 'Happy', 'Sad', 'Surprise', 'Neutral']"
   ]
  },
  {
   "cell_type": "code",
   "execution_count": 278,
   "id": "d106aded",
   "metadata": {},
   "outputs": [
    {
     "name": "stdout",
     "output_type": "stream",
     "text": [
      "Image Loaded\n"
     ]
    }
   ],
   "source": [
    "img_file_name = 'selfie_happy6.jpg'\n",
    "# loading image\n",
    "full_size_image = cv2.imread(os.path.join(BASE_DIR, 'user_test', img_file_name))\n",
    "print(\"Image Loaded\")\n",
    "gray=cv2.cvtColor(full_size_image,cv2.COLOR_RGB2GRAY)\n",
    "face = cv2.CascadeClassifier('haarcascade_frontalface_default.xml')\n",
    "faces = face.detectMultiScale(gray, 1.3, 5)"
   ]
  },
  {
   "cell_type": "code",
   "execution_count": 279,
   "id": "f29a4bff",
   "metadata": {},
   "outputs": [
    {
     "name": "stdout",
     "output_type": "stream",
     "text": [
      "[[546 187 274 274]]\n"
     ]
    }
   ],
   "source": [
    "print(faces)"
   ]
  },
  {
   "cell_type": "code",
   "execution_count": 280,
   "id": "7a19ab6d",
   "metadata": {},
   "outputs": [
    {
     "name": "stdout",
     "output_type": "stream",
     "text": [
      "Emotion: Fear\n"
     ]
    }
   ],
   "source": [
    "# detecting faces\n",
    "for (x, y, w, h) in faces:\n",
    "        roi_gray = gray[y:y + h, x:x + w]\n",
    "        cropped_img = np.expand_dims(np.expand_dims(cv2.resize(roi_gray, (48, 48)), -1), 0)\n",
    "        cv2.normalize(cropped_img, cropped_img, alpha=0, beta=1, norm_type=cv2.NORM_L2, dtype=cv2.CV_32F)\n",
    "        cv2.rectangle(full_size_image, (x, y), (x + w, y + h), (0, 255, 0), 1)\n",
    "        # predicting the emotion\n",
    "        yhat= loaded_model.predict(cropped_img)\n",
    "        cv2.putText(full_size_image, labels[int(np.argmax(yhat))], (x, y), cv2.FONT_HERSHEY_SIMPLEX, 0.8, (0, 255, 0), 1, cv2.LINE_AA)\n",
    "        print(\"Emotion: \"+labels[int(np.argmax(yhat))])\n",
    "\n",
    "cv2.imshow('Emotion', full_size_image)"
   ]
  },
  {
   "cell_type": "code",
   "execution_count": 281,
   "id": "dca83c8d",
   "metadata": {},
   "outputs": [],
   "source": [
    "def draw_bounding_box(face_coordinates, image_array, color):\n",
    "    x, y, w, h = face_coordinates\n",
    "    cv2.rectangle(image_array, (x, y), (x + w, y + h), color, 2)\n",
    "\n",
    "for face in faces:\n",
    "    draw_bounding_box(face, gray, (0, 255, 0))"
   ]
  },
  {
   "cell_type": "code",
   "execution_count": 282,
   "id": "7b832f0d",
   "metadata": {},
   "outputs": [
    {
     "data": {
      "text/plain": [
       "True"
      ]
     },
     "execution_count": 282,
     "metadata": {},
     "output_type": "execute_result"
    }
   ],
   "source": [
    "rgb_image = cv2.cvtColor(full_size_image, cv2.COLOR_BGR2RGB)\n",
    "\n",
    "bgr_image = cv2.cvtColor(rgb_image, cv2.COLOR_RGB2BGR)\n",
    "\n",
    "if not(os.path.exists(os.path.join(BASE_DIR, 'user_test', 'labeled'))):\n",
    "    os.mkdir(os.path.join(BASE_DIR, 'user_test', 'labeled'))\n",
    "\n",
    "cv2.imwrite(os.path.join(BASE_DIR, 'user_test', 'labeled', img_file_name), bgr_image)"
   ]
  },
  {
   "cell_type": "code",
   "execution_count": null,
   "id": "d0d9ff2e",
   "metadata": {},
   "outputs": [],
   "source": []
  }
 ],
 "metadata": {
  "kernelspec": {
   "display_name": "fer_cnn",
   "language": "python",
   "name": "fer_cnn"
  },
  "language_info": {
   "codemirror_mode": {
    "name": "ipython",
    "version": 3
   },
   "file_extension": ".py",
   "mimetype": "text/x-python",
   "name": "python",
   "nbconvert_exporter": "python",
   "pygments_lexer": "ipython3",
   "version": "3.8.5"
  }
 },
 "nbformat": 4,
 "nbformat_minor": 5
}
